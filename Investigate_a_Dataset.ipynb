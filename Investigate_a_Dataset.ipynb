{
 "cells": [
  {
   "cell_type": "markdown",
   "metadata": {},
   "source": [
    "\n",
    "# Project: [No Show Appointments] Data Analysis\n",
    "\n",
    "## Table of Contents\n",
    "<ul>\n",
    "<li><a href=\"#intro\">Introduction</a></li>\n",
    "<li><a href=\"#wrangling\">Data Wrangling</a></li>\n",
    "<li><a href=\"#eda\">Exploratory Data Analysis</a></li>\n",
    "<li><a href=\"#conclusions\">Conclusions</a></li>\n",
    "<li><a href=\"#limitations\">Limitations</a>\n",
    "</ul>"
   ]
  },
  {
   "cell_type": "markdown",
   "metadata": {},
   "source": [
    "<a id='intro'></a>\n",
    "## Introduction\n",
    "\n",
    "We would be doing an analysis on the data about scheduled medical appointments in Brazil. We want to know by analysis, how we can predict if a patieint would show up for a scheduled appointment or not, depending on specific factors.\n",
    "\n",
    "The approach is study what makes those that show up for their appointment do, and similar factors to evaluate missed appointments.\n",
    "\n",
    "### Dataset Description \n",
    "\n",
    "This dataset collects information from 100k medical appointments in Brazil and is focused on the question of whether or not patients show up for their appointment. A number of characteristics about the patient are included in each row. Here is a list of those characteristics.\n",
    "\n",
    "| Data Property      | Description |\n",
    "| :-------           | :---   \n",
    "| PatientId          | A unique way to identify each patient. |\n",
    "| AppointmentID      | A unique way to identify each appointment. |\n",
    "| Gender             | This indicates the patient's gender (Male - M or Female - F). |\n",
    "| ScheduleDay        | This indicates the day the patient made their appointment. |\n",
    "| AppointmentDay     | This indicates the patient's actual appointment day. |\n",
    "| Age                | The patient's age. |\n",
    "| Neighbourhood      | This indicates where the hospital is located. |\n",
    "| Scholarship        | This indicates whether or not the patient is enrolled in [Brasilian welfare program](https://en.wikipedia.org/wiki/Bolsa_Fam%C3%ADlia). |\n",
    "| Hipertension       | This indicates if the patient is hypertensive. |\n",
    "| Diabetes           | This indicates if the patient is diabetic. |\n",
    "| Alcoholism         | This indicates if the patient is an alcoholic. |\n",
    "| Handcap            | This indicates is the patient is an handicap us. |\n",
    "| SMS_received       | This indicates if an SMS was received by the patient. |\n",
    "| No-show            | This indicates if the patient did not show up for their appointment. |\n",
    "\n",
    "\n",
    "<a id='questions'></a>\n",
    "### Question(s) for Analysis\n",
    "<ol>\n",
    "    <li>What percentage of scheduled appointments were fulfilled? <a href=\"#question1\">[View]</a></li>\n",
    "    <li>What are the common factors for fulfilled appointments? <a href=\"#question2\">[View]</a></li>\n",
    "    <li>Can we use these factors to review patients who miss their appointments? <a href=\"#question3\">[View]</a></li>\n",
    "    <li>How can we predict whether a patient would miss their appointment <a href=\"#question4\">[View]</a>?\n",
    "    </li>\n",
    "</ol>"
   ]
  },
  {
   "cell_type": "code",
   "execution_count": 52,
   "metadata": {},
   "outputs": [],
   "source": [
    "# Importation of all important and required packages.\n",
    "\n",
    "import pandas as pd\n",
    "import numpy as np\n",
    "import matplotlib.pyplot as plt\n",
    "import seaborn as sns\n",
    "\n",
    "%matplotlib inline\n",
    "sns.set_theme()"
   ]
  },
  {
   "cell_type": "markdown",
   "metadata": {},
   "source": [
    "<a id='wrangling'></a>\n",
    "## Data Wrangling\n",
    "\n",
    "We would be assessing our data to better understand how it is set up, check for anomalities, inconsistencies and what we would be working with.\n",
    "\n",
    "\n",
    "### General Properties\n",
    "\n",
    "We would be checking for data such as"
   ]
  },
  {
   "cell_type": "code",
   "execution_count": 53,
   "metadata": {},
   "outputs": [
    {
     "data": {
      "text/html": [
       "<div>\n",
       "<style scoped>\n",
       "    .dataframe tbody tr th:only-of-type {\n",
       "        vertical-align: middle;\n",
       "    }\n",
       "\n",
       "    .dataframe tbody tr th {\n",
       "        vertical-align: top;\n",
       "    }\n",
       "\n",
       "    .dataframe thead th {\n",
       "        text-align: right;\n",
       "    }\n",
       "</style>\n",
       "<table border=\"1\" class=\"dataframe\">\n",
       "  <thead>\n",
       "    <tr style=\"text-align: right;\">\n",
       "      <th></th>\n",
       "      <th>PatientId</th>\n",
       "      <th>AppointmentID</th>\n",
       "      <th>Gender</th>\n",
       "      <th>ScheduledDay</th>\n",
       "      <th>AppointmentDay</th>\n",
       "      <th>Age</th>\n",
       "      <th>Neighbourhood</th>\n",
       "      <th>Scholarship</th>\n",
       "      <th>Hipertension</th>\n",
       "      <th>Diabetes</th>\n",
       "      <th>Alcoholism</th>\n",
       "      <th>Handcap</th>\n",
       "      <th>SMS_received</th>\n",
       "      <th>No-show</th>\n",
       "    </tr>\n",
       "  </thead>\n",
       "  <tbody>\n",
       "    <tr>\n",
       "      <th>25548</th>\n",
       "      <td>4.686293e+13</td>\n",
       "      <td>5671023</td>\n",
       "      <td>F</td>\n",
       "      <td>2016-05-06T15:19:30Z</td>\n",
       "      <td>2016-05-06T00:00:00Z</td>\n",
       "      <td>22</td>\n",
       "      <td>JUCUTUQUARA</td>\n",
       "      <td>0</td>\n",
       "      <td>0</td>\n",
       "      <td>0</td>\n",
       "      <td>0</td>\n",
       "      <td>0</td>\n",
       "      <td>0</td>\n",
       "      <td>No</td>\n",
       "    </tr>\n",
       "    <tr>\n",
       "      <th>58189</th>\n",
       "      <td>3.488315e+13</td>\n",
       "      <td>5718189</td>\n",
       "      <td>F</td>\n",
       "      <td>2016-05-19T09:03:31Z</td>\n",
       "      <td>2016-05-30T00:00:00Z</td>\n",
       "      <td>19</td>\n",
       "      <td>JARDIM DA PENHA</td>\n",
       "      <td>0</td>\n",
       "      <td>0</td>\n",
       "      <td>0</td>\n",
       "      <td>0</td>\n",
       "      <td>1</td>\n",
       "      <td>1</td>\n",
       "      <td>No</td>\n",
       "    </tr>\n",
       "    <tr>\n",
       "      <th>32227</th>\n",
       "      <td>1.625735e+13</td>\n",
       "      <td>5609321</td>\n",
       "      <td>F</td>\n",
       "      <td>2016-04-20T15:36:58Z</td>\n",
       "      <td>2016-05-11T00:00:00Z</td>\n",
       "      <td>25</td>\n",
       "      <td>JABOUR</td>\n",
       "      <td>1</td>\n",
       "      <td>0</td>\n",
       "      <td>0</td>\n",
       "      <td>0</td>\n",
       "      <td>0</td>\n",
       "      <td>1</td>\n",
       "      <td>Yes</td>\n",
       "    </tr>\n",
       "    <tr>\n",
       "      <th>21780</th>\n",
       "      <td>3.136367e+13</td>\n",
       "      <td>5649937</td>\n",
       "      <td>F</td>\n",
       "      <td>2016-05-03T07:20:38Z</td>\n",
       "      <td>2016-05-05T00:00:00Z</td>\n",
       "      <td>54</td>\n",
       "      <td>JARDIM DA PENHA</td>\n",
       "      <td>0</td>\n",
       "      <td>0</td>\n",
       "      <td>0</td>\n",
       "      <td>0</td>\n",
       "      <td>0</td>\n",
       "      <td>0</td>\n",
       "      <td>No</td>\n",
       "    </tr>\n",
       "    <tr>\n",
       "      <th>96367</th>\n",
       "      <td>2.469227e+13</td>\n",
       "      <td>5681261</td>\n",
       "      <td>F</td>\n",
       "      <td>2016-05-10T13:56:51Z</td>\n",
       "      <td>2016-06-08T00:00:00Z</td>\n",
       "      <td>28</td>\n",
       "      <td>JARDIM DA PENHA</td>\n",
       "      <td>0</td>\n",
       "      <td>0</td>\n",
       "      <td>0</td>\n",
       "      <td>0</td>\n",
       "      <td>0</td>\n",
       "      <td>1</td>\n",
       "      <td>No</td>\n",
       "    </tr>\n",
       "  </tbody>\n",
       "</table>\n",
       "</div>"
      ],
      "text/plain": [
       "          PatientId  AppointmentID Gender          ScheduledDay  \\\n",
       "25548  4.686293e+13        5671023      F  2016-05-06T15:19:30Z   \n",
       "58189  3.488315e+13        5718189      F  2016-05-19T09:03:31Z   \n",
       "32227  1.625735e+13        5609321      F  2016-04-20T15:36:58Z   \n",
       "21780  3.136367e+13        5649937      F  2016-05-03T07:20:38Z   \n",
       "96367  2.469227e+13        5681261      F  2016-05-10T13:56:51Z   \n",
       "\n",
       "             AppointmentDay  Age    Neighbourhood  Scholarship  Hipertension  \\\n",
       "25548  2016-05-06T00:00:00Z   22      JUCUTUQUARA            0             0   \n",
       "58189  2016-05-30T00:00:00Z   19  JARDIM DA PENHA            0             0   \n",
       "32227  2016-05-11T00:00:00Z   25           JABOUR            1             0   \n",
       "21780  2016-05-05T00:00:00Z   54  JARDIM DA PENHA            0             0   \n",
       "96367  2016-06-08T00:00:00Z   28  JARDIM DA PENHA            0             0   \n",
       "\n",
       "       Diabetes  Alcoholism  Handcap  SMS_received No-show  \n",
       "25548         0           0        0             0      No  \n",
       "58189         0           0        1             1      No  \n",
       "32227         0           0        0             1     Yes  \n",
       "21780         0           0        0             0      No  \n",
       "96367         0           0        0             1      No  "
      ]
     },
     "execution_count": 53,
     "metadata": {},
     "output_type": "execute_result"
    }
   ],
   "source": [
    "# Loading our data and inspect basic informtion about it\n",
    "\n",
    "appointments = pd.read_csv('Database_No_show_appointments.csv')\n",
    "appointments.sample(5)"
   ]
  },
  {
   "cell_type": "code",
   "execution_count": 54,
   "metadata": {
    "scrolled": false
   },
   "outputs": [
    {
     "name": "stdout",
     "output_type": "stream",
     "text": [
      "<class 'pandas.core.frame.DataFrame'>\n",
      "RangeIndex: 110527 entries, 0 to 110526\n",
      "Data columns (total 14 columns):\n",
      " #   Column          Non-Null Count   Dtype  \n",
      "---  ------          --------------   -----  \n",
      " 0   PatientId       110527 non-null  float64\n",
      " 1   AppointmentID   110527 non-null  int64  \n",
      " 2   Gender          110527 non-null  object \n",
      " 3   ScheduledDay    110527 non-null  object \n",
      " 4   AppointmentDay  110527 non-null  object \n",
      " 5   Age             110527 non-null  int64  \n",
      " 6   Neighbourhood   110527 non-null  object \n",
      " 7   Scholarship     110527 non-null  int64  \n",
      " 8   Hipertension    110527 non-null  int64  \n",
      " 9   Diabetes        110527 non-null  int64  \n",
      " 10  Alcoholism      110527 non-null  int64  \n",
      " 11  Handcap         110527 non-null  int64  \n",
      " 12  SMS_received    110527 non-null  int64  \n",
      " 13  No-show         110527 non-null  object \n",
      "dtypes: float64(1), int64(8), object(5)\n",
      "memory usage: 11.8+ MB\n"
     ]
    },
    {
     "data": {
      "text/plain": [
       "PatientId         False\n",
       "AppointmentID     False\n",
       "Gender            False\n",
       "ScheduledDay      False\n",
       "AppointmentDay    False\n",
       "Age               False\n",
       "Neighbourhood     False\n",
       "Scholarship       False\n",
       "Hipertension      False\n",
       "Diabetes          False\n",
       "Alcoholism        False\n",
       "Handcap           False\n",
       "SMS_received      False\n",
       "No-show           False\n",
       "dtype: bool"
      ]
     },
     "execution_count": 54,
     "metadata": {},
     "output_type": "execute_result"
    }
   ],
   "source": [
    "# Check to see datatypes associated with each property and number of entries in the data.\n",
    "# Also check to see if they are null values in our entries\n",
    "\n",
    "appointments.info()\n",
    "appointments.isnull().any()"
   ]
  },
  {
   "cell_type": "code",
   "execution_count": 55,
   "metadata": {},
   "outputs": [
    {
     "name": "stdout",
     "output_type": "stream",
     "text": [
      "0\n"
     ]
    },
    {
     "data": {
      "text/html": [
       "<div>\n",
       "<style scoped>\n",
       "    .dataframe tbody tr th:only-of-type {\n",
       "        vertical-align: middle;\n",
       "    }\n",
       "\n",
       "    .dataframe tbody tr th {\n",
       "        vertical-align: top;\n",
       "    }\n",
       "\n",
       "    .dataframe thead th {\n",
       "        text-align: right;\n",
       "    }\n",
       "</style>\n",
       "<table border=\"1\" class=\"dataframe\">\n",
       "  <thead>\n",
       "    <tr style=\"text-align: right;\">\n",
       "      <th></th>\n",
       "      <th>PatientId</th>\n",
       "      <th>AppointmentID</th>\n",
       "      <th>Age</th>\n",
       "      <th>Scholarship</th>\n",
       "      <th>Hipertension</th>\n",
       "      <th>Diabetes</th>\n",
       "      <th>Alcoholism</th>\n",
       "      <th>Handcap</th>\n",
       "      <th>SMS_received</th>\n",
       "    </tr>\n",
       "  </thead>\n",
       "  <tbody>\n",
       "    <tr>\n",
       "      <th>count</th>\n",
       "      <td>1.105270e+05</td>\n",
       "      <td>1.105270e+05</td>\n",
       "      <td>110527.000000</td>\n",
       "      <td>110527.000000</td>\n",
       "      <td>110527.000000</td>\n",
       "      <td>110527.000000</td>\n",
       "      <td>110527.000000</td>\n",
       "      <td>110527.000000</td>\n",
       "      <td>110527.000000</td>\n",
       "    </tr>\n",
       "    <tr>\n",
       "      <th>mean</th>\n",
       "      <td>1.474963e+14</td>\n",
       "      <td>5.675305e+06</td>\n",
       "      <td>37.088874</td>\n",
       "      <td>0.098266</td>\n",
       "      <td>0.197246</td>\n",
       "      <td>0.071865</td>\n",
       "      <td>0.030400</td>\n",
       "      <td>0.022248</td>\n",
       "      <td>0.321026</td>\n",
       "    </tr>\n",
       "    <tr>\n",
       "      <th>std</th>\n",
       "      <td>2.560949e+14</td>\n",
       "      <td>7.129575e+04</td>\n",
       "      <td>23.110205</td>\n",
       "      <td>0.297675</td>\n",
       "      <td>0.397921</td>\n",
       "      <td>0.258265</td>\n",
       "      <td>0.171686</td>\n",
       "      <td>0.161543</td>\n",
       "      <td>0.466873</td>\n",
       "    </tr>\n",
       "    <tr>\n",
       "      <th>min</th>\n",
       "      <td>3.921784e+04</td>\n",
       "      <td>5.030230e+06</td>\n",
       "      <td>-1.000000</td>\n",
       "      <td>0.000000</td>\n",
       "      <td>0.000000</td>\n",
       "      <td>0.000000</td>\n",
       "      <td>0.000000</td>\n",
       "      <td>0.000000</td>\n",
       "      <td>0.000000</td>\n",
       "    </tr>\n",
       "    <tr>\n",
       "      <th>25%</th>\n",
       "      <td>4.172614e+12</td>\n",
       "      <td>5.640286e+06</td>\n",
       "      <td>18.000000</td>\n",
       "      <td>0.000000</td>\n",
       "      <td>0.000000</td>\n",
       "      <td>0.000000</td>\n",
       "      <td>0.000000</td>\n",
       "      <td>0.000000</td>\n",
       "      <td>0.000000</td>\n",
       "    </tr>\n",
       "    <tr>\n",
       "      <th>50%</th>\n",
       "      <td>3.173184e+13</td>\n",
       "      <td>5.680573e+06</td>\n",
       "      <td>37.000000</td>\n",
       "      <td>0.000000</td>\n",
       "      <td>0.000000</td>\n",
       "      <td>0.000000</td>\n",
       "      <td>0.000000</td>\n",
       "      <td>0.000000</td>\n",
       "      <td>0.000000</td>\n",
       "    </tr>\n",
       "    <tr>\n",
       "      <th>75%</th>\n",
       "      <td>9.439172e+13</td>\n",
       "      <td>5.725524e+06</td>\n",
       "      <td>55.000000</td>\n",
       "      <td>0.000000</td>\n",
       "      <td>0.000000</td>\n",
       "      <td>0.000000</td>\n",
       "      <td>0.000000</td>\n",
       "      <td>0.000000</td>\n",
       "      <td>1.000000</td>\n",
       "    </tr>\n",
       "    <tr>\n",
       "      <th>max</th>\n",
       "      <td>9.999816e+14</td>\n",
       "      <td>5.790484e+06</td>\n",
       "      <td>115.000000</td>\n",
       "      <td>1.000000</td>\n",
       "      <td>1.000000</td>\n",
       "      <td>1.000000</td>\n",
       "      <td>1.000000</td>\n",
       "      <td>4.000000</td>\n",
       "      <td>1.000000</td>\n",
       "    </tr>\n",
       "  </tbody>\n",
       "</table>\n",
       "</div>"
      ],
      "text/plain": [
       "          PatientId  AppointmentID            Age    Scholarship  \\\n",
       "count  1.105270e+05   1.105270e+05  110527.000000  110527.000000   \n",
       "mean   1.474963e+14   5.675305e+06      37.088874       0.098266   \n",
       "std    2.560949e+14   7.129575e+04      23.110205       0.297675   \n",
       "min    3.921784e+04   5.030230e+06      -1.000000       0.000000   \n",
       "25%    4.172614e+12   5.640286e+06      18.000000       0.000000   \n",
       "50%    3.173184e+13   5.680573e+06      37.000000       0.000000   \n",
       "75%    9.439172e+13   5.725524e+06      55.000000       0.000000   \n",
       "max    9.999816e+14   5.790484e+06     115.000000       1.000000   \n",
       "\n",
       "        Hipertension       Diabetes     Alcoholism        Handcap  \\\n",
       "count  110527.000000  110527.000000  110527.000000  110527.000000   \n",
       "mean        0.197246       0.071865       0.030400       0.022248   \n",
       "std         0.397921       0.258265       0.171686       0.161543   \n",
       "min         0.000000       0.000000       0.000000       0.000000   \n",
       "25%         0.000000       0.000000       0.000000       0.000000   \n",
       "50%         0.000000       0.000000       0.000000       0.000000   \n",
       "75%         0.000000       0.000000       0.000000       0.000000   \n",
       "max         1.000000       1.000000       1.000000       4.000000   \n",
       "\n",
       "        SMS_received  \n",
       "count  110527.000000  \n",
       "mean        0.321026  \n",
       "std         0.466873  \n",
       "min         0.000000  \n",
       "25%         0.000000  \n",
       "50%         0.000000  \n",
       "75%         1.000000  \n",
       "max         1.000000  "
      ]
     },
     "execution_count": 55,
     "metadata": {},
     "output_type": "execute_result"
    }
   ],
   "source": [
    "# Check to see if they are duplicates in our data\n",
    "print(sum(appointments.duplicated()))\n",
    "\n",
    "# Check for some statistics to get an overview of the data we are working with\n",
    "appointments.describe()"
   ]
  },
  {
   "cell_type": "code",
   "execution_count": 56,
   "metadata": {},
   "outputs": [
    {
     "data": {
      "text/plain": [
       "110527"
      ]
     },
     "execution_count": 56,
     "metadata": {},
     "output_type": "execute_result"
    }
   ],
   "source": [
    "appointments['AppointmentID'].nunique()"
   ]
  },
  {
   "cell_type": "code",
   "execution_count": 57,
   "metadata": {
    "scrolled": true
   },
   "outputs": [
    {
     "data": {
      "text/plain": [
       "0    108286\n",
       "1      2042\n",
       "2       183\n",
       "3        13\n",
       "4         3\n",
       "Name: Handcap, dtype: int64"
      ]
     },
     "execution_count": 57,
     "metadata": {},
     "output_type": "execute_result"
    }
   ],
   "source": [
    "appointments['Handcap'].value_counts()"
   ]
  },
  {
   "cell_type": "markdown",
   "metadata": {},
   "source": [
    "\n",
    "#### Observations\n",
    "Based on the data assessment we've done, we can see that\n",
    "\n",
    "1. There are no duplicate appointment entries.\n",
    "2. No null/missing values in any of the properties.\n",
    "3. AppointmentId is unique for every role, so we can drop this for our analysis.\n",
    "4. In the statistics table, we can see the mininum age is -1, which is not a valid age.\n",
    "5. The time in appointment date is always 00:00, so we can drop the time for both ScheduledDay and AppointmentDay\n",
    "6. According to documentation, the Handcap column is meant to be True(1) or False(0), but we have multiple values."
   ]
  },
  {
   "cell_type": "markdown",
   "metadata": {},
   "source": [
    "\n",
    "### Data Cleaning\n",
    "\n",
    "Based on observation of the data[appointments], we need to perform some actions on our data, so as to clean it up and we have consistent entries for analysis.\n",
    "\n",
    "1. Remove the AppointmentID column because it would not be included in our analysis.\n",
    "2. Rename columns to same format (lowercase separated by _ for consistency) and rename 'No-show' to 'Missed'\n",
    "3. Keep all entries with an Age >= 10 (Setting minimum age for a patient that can schedule an appointment as 10years)\n",
    "4. Keep all entries with Handcap <= 1\n",
    "5. Do we have entries where appointment_day is before scheduled_day? This should not be possible. Remove entries.\n",
    "6. Introduce a new column [waiting_days] for the difference between the day an appointment is scheduled and the day of the appointment\n",
    "7. Introduce a new column [appointment_dow], so we know what day of the week the appointment falls."
   ]
  },
  {
   "cell_type": "code",
   "execution_count": 58,
   "metadata": {},
   "outputs": [
    {
     "data": {
      "text/html": [
       "<div>\n",
       "<style scoped>\n",
       "    .dataframe tbody tr th:only-of-type {\n",
       "        vertical-align: middle;\n",
       "    }\n",
       "\n",
       "    .dataframe tbody tr th {\n",
       "        vertical-align: top;\n",
       "    }\n",
       "\n",
       "    .dataframe thead th {\n",
       "        text-align: right;\n",
       "    }\n",
       "</style>\n",
       "<table border=\"1\" class=\"dataframe\">\n",
       "  <thead>\n",
       "    <tr style=\"text-align: right;\">\n",
       "      <th></th>\n",
       "      <th>PatientId</th>\n",
       "      <th>Gender</th>\n",
       "      <th>ScheduledDay</th>\n",
       "      <th>AppointmentDay</th>\n",
       "      <th>Age</th>\n",
       "      <th>Neighbourhood</th>\n",
       "      <th>Scholarship</th>\n",
       "      <th>Hipertension</th>\n",
       "      <th>Diabetes</th>\n",
       "      <th>Alcoholism</th>\n",
       "      <th>Handcap</th>\n",
       "      <th>SMS_received</th>\n",
       "      <th>No-show</th>\n",
       "    </tr>\n",
       "  </thead>\n",
       "  <tbody>\n",
       "    <tr>\n",
       "      <th>0</th>\n",
       "      <td>2.987250e+13</td>\n",
       "      <td>F</td>\n",
       "      <td>2016-04-29T18:38:08Z</td>\n",
       "      <td>2016-04-29T00:00:00Z</td>\n",
       "      <td>62</td>\n",
       "      <td>JARDIM DA PENHA</td>\n",
       "      <td>0</td>\n",
       "      <td>1</td>\n",
       "      <td>0</td>\n",
       "      <td>0</td>\n",
       "      <td>0</td>\n",
       "      <td>0</td>\n",
       "      <td>No</td>\n",
       "    </tr>\n",
       "  </tbody>\n",
       "</table>\n",
       "</div>"
      ],
      "text/plain": [
       "      PatientId Gender          ScheduledDay        AppointmentDay  Age  \\\n",
       "0  2.987250e+13      F  2016-04-29T18:38:08Z  2016-04-29T00:00:00Z   62   \n",
       "\n",
       "     Neighbourhood  Scholarship  Hipertension  Diabetes  Alcoholism  Handcap  \\\n",
       "0  JARDIM DA PENHA            0             1         0           0        0   \n",
       "\n",
       "   SMS_received No-show  \n",
       "0             0      No  "
      ]
     },
     "execution_count": 58,
     "metadata": {},
     "output_type": "execute_result"
    }
   ],
   "source": [
    "# Drop the AppointmentID column\n",
    "appointments.drop(['AppointmentID'], axis=1, inplace=True)\n",
    "appointments.head(1)"
   ]
  },
  {
   "cell_type": "code",
   "execution_count": 60,
   "metadata": {
    "scrolled": true
   },
   "outputs": [
    {
     "data": {
      "text/plain": [
       "618"
      ]
     },
     "execution_count": 60,
     "metadata": {},
     "output_type": "execute_result"
    }
   ],
   "source": [
    "# Recheck for duplicates since we dropped the column with unique values\n",
    "appointments.duplicated().sum()"
   ]
  },
  {
   "cell_type": "code",
   "execution_count": 61,
   "metadata": {},
   "outputs": [
    {
     "data": {
      "text/plain": [
       "0"
      ]
     },
     "execution_count": 61,
     "metadata": {},
     "output_type": "execute_result"
    }
   ],
   "source": [
    "# Remove duplicates\n",
    "appointments.drop_duplicates(inplace=True)\n",
    "appointments.duplicated().sum()"
   ]
  },
  {
   "cell_type": "code",
   "execution_count": 62,
   "metadata": {},
   "outputs": [
    {
     "data": {
      "text/html": [
       "<div>\n",
       "<style scoped>\n",
       "    .dataframe tbody tr th:only-of-type {\n",
       "        vertical-align: middle;\n",
       "    }\n",
       "\n",
       "    .dataframe tbody tr th {\n",
       "        vertical-align: top;\n",
       "    }\n",
       "\n",
       "    .dataframe thead th {\n",
       "        text-align: right;\n",
       "    }\n",
       "</style>\n",
       "<table border=\"1\" class=\"dataframe\">\n",
       "  <thead>\n",
       "    <tr style=\"text-align: right;\">\n",
       "      <th></th>\n",
       "      <th>patient_id</th>\n",
       "      <th>gender</th>\n",
       "      <th>scheduled_day</th>\n",
       "      <th>appointment_day</th>\n",
       "      <th>age</th>\n",
       "      <th>neighbourhood</th>\n",
       "      <th>scholarship</th>\n",
       "      <th>hypertension</th>\n",
       "      <th>diabetes</th>\n",
       "      <th>alcoholism</th>\n",
       "      <th>handicap</th>\n",
       "      <th>sms_received</th>\n",
       "      <th>missed</th>\n",
       "    </tr>\n",
       "  </thead>\n",
       "  <tbody>\n",
       "    <tr>\n",
       "      <th>0</th>\n",
       "      <td>2.987250e+13</td>\n",
       "      <td>F</td>\n",
       "      <td>2016-04-29T18:38:08Z</td>\n",
       "      <td>2016-04-29T00:00:00Z</td>\n",
       "      <td>62</td>\n",
       "      <td>JARDIM DA PENHA</td>\n",
       "      <td>0</td>\n",
       "      <td>1</td>\n",
       "      <td>0</td>\n",
       "      <td>0</td>\n",
       "      <td>0</td>\n",
       "      <td>0</td>\n",
       "      <td>No</td>\n",
       "    </tr>\n",
       "  </tbody>\n",
       "</table>\n",
       "</div>"
      ],
      "text/plain": [
       "     patient_id gender         scheduled_day       appointment_day  age  \\\n",
       "0  2.987250e+13      F  2016-04-29T18:38:08Z  2016-04-29T00:00:00Z   62   \n",
       "\n",
       "     neighbourhood  scholarship  hypertension  diabetes  alcoholism  handicap  \\\n",
       "0  JARDIM DA PENHA            0             1         0           0         0   \n",
       "\n",
       "   sms_received missed  \n",
       "0             0     No  "
      ]
     },
     "execution_count": 62,
     "metadata": {},
     "output_type": "execute_result"
    }
   ],
   "source": [
    "# Rename columns to same format (lowercase separated by _ for consistency)\n",
    "# Also rename misspelled column name ['Hipertension', \"Handcap\"]\n",
    "# Rename 'No-show' to Missed for better clarity\n",
    "\n",
    "appointments.rename(columns={\n",
    "    'PatientId': 'patient_id',\n",
    "    'Gender': 'gender',\n",
    "    'ScheduledDay': 'scheduled_day',\n",
    "    'AppointmentDay': 'appointment_day',\n",
    "    'Age': 'age',\n",
    "    'Neighbourhood': 'neighbourhood',\n",
    "    'Scholarship': 'scholarship',\n",
    "    'Hipertension': 'hypertension',\n",
    "    'Diabetes': 'diabetes',\n",
    "    'Alcoholism': 'alcoholism',\n",
    "    'Handcap': 'handicap',\n",
    "    'SMS_received': 'sms_received',\n",
    "    'No-show': 'missed'\n",
    "}, inplace=True)\n",
    "\n",
    "appointments.head(1)"
   ]
  },
  {
   "cell_type": "code",
   "execution_count": 63,
   "metadata": {},
   "outputs": [],
   "source": [
    "# Keep all entries with an Age >= 10.\n",
    "# Setting minimum age for a patient that can schedule an appointment as 10years.\n",
    "\n",
    "appointments.query('age >= 10', inplace=True)"
   ]
  },
  {
   "cell_type": "code",
   "execution_count": 64,
   "metadata": {},
   "outputs": [],
   "source": [
    "# Keep all entries with Handcap <= 1\n",
    "appointments.query('handicap <= 1', inplace=True)"
   ]
  },
  {
   "cell_type": "code",
   "execution_count": 65,
   "metadata": {},
   "outputs": [],
   "source": [
    "# Restructure missed column all entries\n",
    "appointments['missed'].replace({ \"No\": 0, \"Yes\": 1}, inplace=True)"
   ]
  },
  {
   "cell_type": "code",
   "execution_count": 66,
   "metadata": {},
   "outputs": [
    {
     "data": {
      "text/html": [
       "<div>\n",
       "<style scoped>\n",
       "    .dataframe tbody tr th:only-of-type {\n",
       "        vertical-align: middle;\n",
       "    }\n",
       "\n",
       "    .dataframe tbody tr th {\n",
       "        vertical-align: top;\n",
       "    }\n",
       "\n",
       "    .dataframe thead th {\n",
       "        text-align: right;\n",
       "    }\n",
       "</style>\n",
       "<table border=\"1\" class=\"dataframe\">\n",
       "  <thead>\n",
       "    <tr style=\"text-align: right;\">\n",
       "      <th></th>\n",
       "      <th>patient_id</th>\n",
       "      <th>gender</th>\n",
       "      <th>scheduled_day</th>\n",
       "      <th>appointment_day</th>\n",
       "      <th>age</th>\n",
       "      <th>neighbourhood</th>\n",
       "      <th>scholarship</th>\n",
       "      <th>hypertension</th>\n",
       "      <th>diabetes</th>\n",
       "      <th>alcoholism</th>\n",
       "      <th>handicap</th>\n",
       "      <th>sms_received</th>\n",
       "      <th>missed</th>\n",
       "      <th>appointment_dow</th>\n",
       "    </tr>\n",
       "  </thead>\n",
       "  <tbody>\n",
       "    <tr>\n",
       "      <th>39751</th>\n",
       "      <td>9.573527e+12</td>\n",
       "      <td>F</td>\n",
       "      <td>2016-05-20</td>\n",
       "      <td>2016-05-30</td>\n",
       "      <td>59</td>\n",
       "      <td>ROMÃO</td>\n",
       "      <td>0</td>\n",
       "      <td>1</td>\n",
       "      <td>0</td>\n",
       "      <td>0</td>\n",
       "      <td>0</td>\n",
       "      <td>1</td>\n",
       "      <td>0</td>\n",
       "      <td>Monday</td>\n",
       "    </tr>\n",
       "    <tr>\n",
       "      <th>72768</th>\n",
       "      <td>9.429775e+13</td>\n",
       "      <td>F</td>\n",
       "      <td>2016-05-11</td>\n",
       "      <td>2016-05-11</td>\n",
       "      <td>12</td>\n",
       "      <td>GRANDE VITÓRIA</td>\n",
       "      <td>0</td>\n",
       "      <td>0</td>\n",
       "      <td>0</td>\n",
       "      <td>0</td>\n",
       "      <td>0</td>\n",
       "      <td>0</td>\n",
       "      <td>1</td>\n",
       "      <td>Wednesday</td>\n",
       "    </tr>\n",
       "    <tr>\n",
       "      <th>108840</th>\n",
       "      <td>2.271580e+12</td>\n",
       "      <td>M</td>\n",
       "      <td>2016-06-08</td>\n",
       "      <td>2016-06-08</td>\n",
       "      <td>57</td>\n",
       "      <td>ILHA DE SANTA MARIA</td>\n",
       "      <td>0</td>\n",
       "      <td>0</td>\n",
       "      <td>0</td>\n",
       "      <td>0</td>\n",
       "      <td>0</td>\n",
       "      <td>0</td>\n",
       "      <td>0</td>\n",
       "      <td>Wednesday</td>\n",
       "    </tr>\n",
       "    <tr>\n",
       "      <th>7412</th>\n",
       "      <td>9.327722e+14</td>\n",
       "      <td>F</td>\n",
       "      <td>2016-05-03</td>\n",
       "      <td>2016-05-09</td>\n",
       "      <td>35</td>\n",
       "      <td>REDENÇÃO</td>\n",
       "      <td>0</td>\n",
       "      <td>0</td>\n",
       "      <td>0</td>\n",
       "      <td>0</td>\n",
       "      <td>0</td>\n",
       "      <td>0</td>\n",
       "      <td>1</td>\n",
       "      <td>Monday</td>\n",
       "    </tr>\n",
       "    <tr>\n",
       "      <th>59788</th>\n",
       "      <td>5.683762e+13</td>\n",
       "      <td>M</td>\n",
       "      <td>2016-04-07</td>\n",
       "      <td>2016-05-03</td>\n",
       "      <td>51</td>\n",
       "      <td>ILHA DE SANTA MARIA</td>\n",
       "      <td>0</td>\n",
       "      <td>0</td>\n",
       "      <td>0</td>\n",
       "      <td>0</td>\n",
       "      <td>0</td>\n",
       "      <td>1</td>\n",
       "      <td>1</td>\n",
       "      <td>Tuesday</td>\n",
       "    </tr>\n",
       "  </tbody>\n",
       "</table>\n",
       "</div>"
      ],
      "text/plain": [
       "          patient_id gender scheduled_day appointment_day  age  \\\n",
       "39751   9.573527e+12      F    2016-05-20      2016-05-30   59   \n",
       "72768   9.429775e+13      F    2016-05-11      2016-05-11   12   \n",
       "108840  2.271580e+12      M    2016-06-08      2016-06-08   57   \n",
       "7412    9.327722e+14      F    2016-05-03      2016-05-09   35   \n",
       "59788   5.683762e+13      M    2016-04-07      2016-05-03   51   \n",
       "\n",
       "              neighbourhood  scholarship  hypertension  diabetes  alcoholism  \\\n",
       "39751                 ROMÃO            0             1         0           0   \n",
       "72768        GRANDE VITÓRIA            0             0         0           0   \n",
       "108840  ILHA DE SANTA MARIA            0             0         0           0   \n",
       "7412               REDENÇÃO            0             0         0           0   \n",
       "59788   ILHA DE SANTA MARIA            0             0         0           0   \n",
       "\n",
       "        handicap  sms_received  missed appointment_dow  \n",
       "39751          0             1       0          Monday  \n",
       "72768          0             0       1       Wednesday  \n",
       "108840         0             0       0       Wednesday  \n",
       "7412           0             0       1          Monday  \n",
       "59788          0             1       1         Tuesday  "
      ]
     },
     "execution_count": 66,
     "metadata": {},
     "output_type": "execute_result"
    }
   ],
   "source": [
    "# Reformat dates \n",
    "\n",
    "# Method to convert string to panda datetime\n",
    "def convert_to_date(column):\n",
    "    return pd.to_datetime(appointments[column])\n",
    "\n",
    "# Restructured dates without time\n",
    "appointments['appointment_day'] = convert_to_date('appointment_day').dt.date\n",
    "appointments['scheduled_day'] = convert_to_date('scheduled_day').dt.date\n",
    "\n",
    "# Create a new column for what day of the week the appointment day is\n",
    "appointments['appointment_dow'] = convert_to_date('appointment_day').dt.day_name()\n",
    "\n",
    "# View sample data\n",
    "appointments.sample(5)"
   ]
  },
  {
   "cell_type": "code",
   "execution_count": 67,
   "metadata": {},
   "outputs": [],
   "source": [
    "# Since we would be creating a new column [waiting_days], we need to\n",
    "# keep only entries with appointment_day >= scheduled_day.\n",
    "# This is because you cannot have an appointment before you schedule it.\n",
    "\n",
    "appointments.query('appointment_day >= scheduled_day', inplace=True)"
   ]
  },
  {
   "cell_type": "code",
   "execution_count": 68,
   "metadata": {},
   "outputs": [
    {
     "data": {
      "text/html": [
       "<div>\n",
       "<style scoped>\n",
       "    .dataframe tbody tr th:only-of-type {\n",
       "        vertical-align: middle;\n",
       "    }\n",
       "\n",
       "    .dataframe tbody tr th {\n",
       "        vertical-align: top;\n",
       "    }\n",
       "\n",
       "    .dataframe thead th {\n",
       "        text-align: right;\n",
       "    }\n",
       "</style>\n",
       "<table border=\"1\" class=\"dataframe\">\n",
       "  <thead>\n",
       "    <tr style=\"text-align: right;\">\n",
       "      <th></th>\n",
       "      <th>patient_id</th>\n",
       "      <th>gender</th>\n",
       "      <th>scheduled_day</th>\n",
       "      <th>appointment_day</th>\n",
       "      <th>age</th>\n",
       "      <th>neighbourhood</th>\n",
       "      <th>scholarship</th>\n",
       "      <th>hypertension</th>\n",
       "      <th>diabetes</th>\n",
       "      <th>alcoholism</th>\n",
       "      <th>handicap</th>\n",
       "      <th>sms_received</th>\n",
       "      <th>missed</th>\n",
       "      <th>appointment_dow</th>\n",
       "    </tr>\n",
       "  </thead>\n",
       "  <tbody>\n",
       "  </tbody>\n",
       "</table>\n",
       "</div>"
      ],
      "text/plain": [
       "Empty DataFrame\n",
       "Columns: [patient_id, gender, scheduled_day, appointment_day, age, neighbourhood, scholarship, hypertension, diabetes, alcoholism, handicap, sms_received, missed, appointment_dow]\n",
       "Index: []"
      ]
     },
     "execution_count": 68,
     "metadata": {},
     "output_type": "execute_result"
    }
   ],
   "source": [
    "# Check to ensure no entry has scheduled_day > appointment_day\n",
    "appointments.query('scheduled_day > appointment_day')"
   ]
  },
  {
   "cell_type": "code",
   "execution_count": 69,
   "metadata": {},
   "outputs": [],
   "source": [
    "#Introduce a new column [waiting_days] for the difference between the day an appointment is scheduled \n",
    "# and the day of the appointment\n",
    "\n",
    "appointments['waiting_days'] = (appointments['appointment_day'] - appointments['scheduled_day']).dt.days"
   ]
  },
  {
   "cell_type": "code",
   "execution_count": 70,
   "metadata": {},
   "outputs": [
    {
     "data": {
      "text/plain": [
       "3101"
      ]
     },
     "execution_count": 70,
     "metadata": {},
     "output_type": "execute_result"
    }
   ],
   "source": [
    "# Recheck for duplicates since after cleaning operations\n",
    "appointments.duplicated().sum()"
   ]
  },
  {
   "cell_type": "code",
   "execution_count": 71,
   "metadata": {},
   "outputs": [
    {
     "data": {
      "text/plain": [
       "0"
      ]
     },
     "execution_count": 71,
     "metadata": {},
     "output_type": "execute_result"
    }
   ],
   "source": [
    "# Drop duplicates if any\n",
    "appointments.drop_duplicates(inplace=True)\n",
    "appointments.duplicated().sum()"
   ]
  },
  {
   "cell_type": "code",
   "execution_count": 72,
   "metadata": {
    "scrolled": true
   },
   "outputs": [
    {
     "data": {
      "text/html": [
       "<div>\n",
       "<style scoped>\n",
       "    .dataframe tbody tr th:only-of-type {\n",
       "        vertical-align: middle;\n",
       "    }\n",
       "\n",
       "    .dataframe tbody tr th {\n",
       "        vertical-align: top;\n",
       "    }\n",
       "\n",
       "    .dataframe thead th {\n",
       "        text-align: right;\n",
       "    }\n",
       "</style>\n",
       "<table border=\"1\" class=\"dataframe\">\n",
       "  <thead>\n",
       "    <tr style=\"text-align: right;\">\n",
       "      <th></th>\n",
       "      <th>patient_id</th>\n",
       "      <th>gender</th>\n",
       "      <th>scheduled_day</th>\n",
       "      <th>appointment_day</th>\n",
       "      <th>age</th>\n",
       "      <th>neighbourhood</th>\n",
       "      <th>scholarship</th>\n",
       "      <th>hypertension</th>\n",
       "      <th>diabetes</th>\n",
       "      <th>alcoholism</th>\n",
       "      <th>handicap</th>\n",
       "      <th>sms_received</th>\n",
       "      <th>missed</th>\n",
       "      <th>appointment_dow</th>\n",
       "      <th>waiting_days</th>\n",
       "    </tr>\n",
       "  </thead>\n",
       "  <tbody>\n",
       "    <tr>\n",
       "      <th>0</th>\n",
       "      <td>2.987250e+13</td>\n",
       "      <td>F</td>\n",
       "      <td>2016-04-29</td>\n",
       "      <td>2016-04-29</td>\n",
       "      <td>62</td>\n",
       "      <td>JARDIM DA PENHA</td>\n",
       "      <td>0</td>\n",
       "      <td>1</td>\n",
       "      <td>0</td>\n",
       "      <td>0</td>\n",
       "      <td>0</td>\n",
       "      <td>0</td>\n",
       "      <td>0</td>\n",
       "      <td>Friday</td>\n",
       "      <td>0</td>\n",
       "    </tr>\n",
       "    <tr>\n",
       "      <th>1</th>\n",
       "      <td>5.589978e+14</td>\n",
       "      <td>M</td>\n",
       "      <td>2016-04-29</td>\n",
       "      <td>2016-04-29</td>\n",
       "      <td>56</td>\n",
       "      <td>JARDIM DA PENHA</td>\n",
       "      <td>0</td>\n",
       "      <td>0</td>\n",
       "      <td>0</td>\n",
       "      <td>0</td>\n",
       "      <td>0</td>\n",
       "      <td>0</td>\n",
       "      <td>0</td>\n",
       "      <td>Friday</td>\n",
       "      <td>0</td>\n",
       "    </tr>\n",
       "    <tr>\n",
       "      <th>2</th>\n",
       "      <td>4.262962e+12</td>\n",
       "      <td>F</td>\n",
       "      <td>2016-04-29</td>\n",
       "      <td>2016-04-29</td>\n",
       "      <td>62</td>\n",
       "      <td>MATA DA PRAIA</td>\n",
       "      <td>0</td>\n",
       "      <td>0</td>\n",
       "      <td>0</td>\n",
       "      <td>0</td>\n",
       "      <td>0</td>\n",
       "      <td>0</td>\n",
       "      <td>0</td>\n",
       "      <td>Friday</td>\n",
       "      <td>0</td>\n",
       "    </tr>\n",
       "    <tr>\n",
       "      <th>4</th>\n",
       "      <td>8.841186e+12</td>\n",
       "      <td>F</td>\n",
       "      <td>2016-04-29</td>\n",
       "      <td>2016-04-29</td>\n",
       "      <td>56</td>\n",
       "      <td>JARDIM DA PENHA</td>\n",
       "      <td>0</td>\n",
       "      <td>1</td>\n",
       "      <td>1</td>\n",
       "      <td>0</td>\n",
       "      <td>0</td>\n",
       "      <td>0</td>\n",
       "      <td>0</td>\n",
       "      <td>Friday</td>\n",
       "      <td>0</td>\n",
       "    </tr>\n",
       "    <tr>\n",
       "      <th>5</th>\n",
       "      <td>9.598513e+13</td>\n",
       "      <td>F</td>\n",
       "      <td>2016-04-27</td>\n",
       "      <td>2016-04-29</td>\n",
       "      <td>76</td>\n",
       "      <td>REPÚBLICA</td>\n",
       "      <td>0</td>\n",
       "      <td>1</td>\n",
       "      <td>0</td>\n",
       "      <td>0</td>\n",
       "      <td>0</td>\n",
       "      <td>0</td>\n",
       "      <td>0</td>\n",
       "      <td>Friday</td>\n",
       "      <td>2</td>\n",
       "    </tr>\n",
       "  </tbody>\n",
       "</table>\n",
       "</div>"
      ],
      "text/plain": [
       "     patient_id gender scheduled_day appointment_day  age    neighbourhood  \\\n",
       "0  2.987250e+13      F    2016-04-29      2016-04-29   62  JARDIM DA PENHA   \n",
       "1  5.589978e+14      M    2016-04-29      2016-04-29   56  JARDIM DA PENHA   \n",
       "2  4.262962e+12      F    2016-04-29      2016-04-29   62    MATA DA PRAIA   \n",
       "4  8.841186e+12      F    2016-04-29      2016-04-29   56  JARDIM DA PENHA   \n",
       "5  9.598513e+13      F    2016-04-27      2016-04-29   76        REPÚBLICA   \n",
       "\n",
       "   scholarship  hypertension  diabetes  alcoholism  handicap  sms_received  \\\n",
       "0            0             1         0           0         0             0   \n",
       "1            0             0         0           0         0             0   \n",
       "2            0             0         0           0         0             0   \n",
       "4            0             1         1           0         0             0   \n",
       "5            0             1         0           0         0             0   \n",
       "\n",
       "   missed appointment_dow  waiting_days  \n",
       "0       0          Friday             0  \n",
       "1       0          Friday             0  \n",
       "2       0          Friday             0  \n",
       "4       0          Friday             0  \n",
       "5       0          Friday             2  "
      ]
     },
     "execution_count": 72,
     "metadata": {},
     "output_type": "execute_result"
    }
   ],
   "source": [
    "appointments.head()"
   ]
  },
  {
   "cell_type": "code",
   "execution_count": 73,
   "metadata": {},
   "outputs": [
    {
     "data": {
      "text/html": [
       "<div>\n",
       "<style scoped>\n",
       "    .dataframe tbody tr th:only-of-type {\n",
       "        vertical-align: middle;\n",
       "    }\n",
       "\n",
       "    .dataframe tbody tr th {\n",
       "        vertical-align: top;\n",
       "    }\n",
       "\n",
       "    .dataframe thead th {\n",
       "        text-align: right;\n",
       "    }\n",
       "</style>\n",
       "<table border=\"1\" class=\"dataframe\">\n",
       "  <thead>\n",
       "    <tr style=\"text-align: right;\">\n",
       "      <th></th>\n",
       "      <th>patient_id</th>\n",
       "      <th>age</th>\n",
       "      <th>scholarship</th>\n",
       "      <th>hypertension</th>\n",
       "      <th>diabetes</th>\n",
       "      <th>alcoholism</th>\n",
       "      <th>handicap</th>\n",
       "      <th>sms_received</th>\n",
       "      <th>missed</th>\n",
       "      <th>waiting_days</th>\n",
       "    </tr>\n",
       "  </thead>\n",
       "  <tbody>\n",
       "    <tr>\n",
       "      <th>count</th>\n",
       "      <td>8.920500e+04</td>\n",
       "      <td>89205.000000</td>\n",
       "      <td>89205.000000</td>\n",
       "      <td>89205.000000</td>\n",
       "      <td>89205.000000</td>\n",
       "      <td>89205.000000</td>\n",
       "      <td>89205.000000</td>\n",
       "      <td>89205.000000</td>\n",
       "      <td>89205.000000</td>\n",
       "      <td>89205.000000</td>\n",
       "    </tr>\n",
       "    <tr>\n",
       "      <th>mean</th>\n",
       "      <td>1.463357e+14</td>\n",
       "      <td>43.423620</td>\n",
       "      <td>0.099086</td>\n",
       "      <td>0.236085</td>\n",
       "      <td>0.086139</td>\n",
       "      <td>0.033227</td>\n",
       "      <td>0.021142</td>\n",
       "      <td>0.341091</td>\n",
       "      <td>0.204798</td>\n",
       "      <td>10.499030</td>\n",
       "    </tr>\n",
       "    <tr>\n",
       "      <th>std</th>\n",
       "      <td>2.547515e+14</td>\n",
       "      <td>19.629139</td>\n",
       "      <td>0.298780</td>\n",
       "      <td>0.424678</td>\n",
       "      <td>0.280570</td>\n",
       "      <td>0.179229</td>\n",
       "      <td>0.143859</td>\n",
       "      <td>0.474078</td>\n",
       "      <td>0.403556</td>\n",
       "      <td>15.583966</td>\n",
       "    </tr>\n",
       "    <tr>\n",
       "      <th>min</th>\n",
       "      <td>3.921784e+04</td>\n",
       "      <td>10.000000</td>\n",
       "      <td>0.000000</td>\n",
       "      <td>0.000000</td>\n",
       "      <td>0.000000</td>\n",
       "      <td>0.000000</td>\n",
       "      <td>0.000000</td>\n",
       "      <td>0.000000</td>\n",
       "      <td>0.000000</td>\n",
       "      <td>0.000000</td>\n",
       "    </tr>\n",
       "    <tr>\n",
       "      <th>25%</th>\n",
       "      <td>4.143219e+12</td>\n",
       "      <td>27.000000</td>\n",
       "      <td>0.000000</td>\n",
       "      <td>0.000000</td>\n",
       "      <td>0.000000</td>\n",
       "      <td>0.000000</td>\n",
       "      <td>0.000000</td>\n",
       "      <td>0.000000</td>\n",
       "      <td>0.000000</td>\n",
       "      <td>0.000000</td>\n",
       "    </tr>\n",
       "    <tr>\n",
       "      <th>50%</th>\n",
       "      <td>3.135918e+13</td>\n",
       "      <td>43.000000</td>\n",
       "      <td>0.000000</td>\n",
       "      <td>0.000000</td>\n",
       "      <td>0.000000</td>\n",
       "      <td>0.000000</td>\n",
       "      <td>0.000000</td>\n",
       "      <td>0.000000</td>\n",
       "      <td>0.000000</td>\n",
       "      <td>4.000000</td>\n",
       "    </tr>\n",
       "    <tr>\n",
       "      <th>75%</th>\n",
       "      <td>9.418585e+13</td>\n",
       "      <td>58.000000</td>\n",
       "      <td>0.000000</td>\n",
       "      <td>0.000000</td>\n",
       "      <td>0.000000</td>\n",
       "      <td>0.000000</td>\n",
       "      <td>0.000000</td>\n",
       "      <td>1.000000</td>\n",
       "      <td>0.000000</td>\n",
       "      <td>15.000000</td>\n",
       "    </tr>\n",
       "    <tr>\n",
       "      <th>max</th>\n",
       "      <td>9.999686e+14</td>\n",
       "      <td>115.000000</td>\n",
       "      <td>1.000000</td>\n",
       "      <td>1.000000</td>\n",
       "      <td>1.000000</td>\n",
       "      <td>1.000000</td>\n",
       "      <td>1.000000</td>\n",
       "      <td>1.000000</td>\n",
       "      <td>1.000000</td>\n",
       "      <td>179.000000</td>\n",
       "    </tr>\n",
       "  </tbody>\n",
       "</table>\n",
       "</div>"
      ],
      "text/plain": [
       "         patient_id           age   scholarship  hypertension      diabetes  \\\n",
       "count  8.920500e+04  89205.000000  89205.000000  89205.000000  89205.000000   \n",
       "mean   1.463357e+14     43.423620      0.099086      0.236085      0.086139   \n",
       "std    2.547515e+14     19.629139      0.298780      0.424678      0.280570   \n",
       "min    3.921784e+04     10.000000      0.000000      0.000000      0.000000   \n",
       "25%    4.143219e+12     27.000000      0.000000      0.000000      0.000000   \n",
       "50%    3.135918e+13     43.000000      0.000000      0.000000      0.000000   \n",
       "75%    9.418585e+13     58.000000      0.000000      0.000000      0.000000   \n",
       "max    9.999686e+14    115.000000      1.000000      1.000000      1.000000   \n",
       "\n",
       "         alcoholism      handicap  sms_received        missed  waiting_days  \n",
       "count  89205.000000  89205.000000  89205.000000  89205.000000  89205.000000  \n",
       "mean       0.033227      0.021142      0.341091      0.204798     10.499030  \n",
       "std        0.179229      0.143859      0.474078      0.403556     15.583966  \n",
       "min        0.000000      0.000000      0.000000      0.000000      0.000000  \n",
       "25%        0.000000      0.000000      0.000000      0.000000      0.000000  \n",
       "50%        0.000000      0.000000      0.000000      0.000000      4.000000  \n",
       "75%        0.000000      0.000000      1.000000      0.000000     15.000000  \n",
       "max        1.000000      1.000000      1.000000      1.000000    179.000000  "
      ]
     },
     "execution_count": 73,
     "metadata": {},
     "output_type": "execute_result"
    }
   ],
   "source": [
    "# Resulting statistical data after clean-up\n",
    "appointments.describe()"
   ]
  },
  {
   "cell_type": "markdown",
   "metadata": {},
   "source": [
    "<a id='eda'></a>\n",
    "## Exploratory Data Analysis\n",
    "\n",
    "We are looking to compute statistics and crate visualizations with the goal of addressing the <a href='#questions'>questions</a> we asked above.\n",
    "\n",
    "Missed - This would be serving as our dependent variable, while other properties serve as our independent variables. We would be exploring associations among them.\n"
   ]
  },
  {
   "cell_type": "markdown",
   "metadata": {},
   "source": [
    "<a id=\"question1\"></a>\n",
    "### Question 1 - What percentage of scheduled appointments were fulfilled?"
   ]
  },
  {
   "cell_type": "code",
   "execution_count": 74,
   "metadata": {},
   "outputs": [],
   "source": [
    "# Function to help label figures\n",
    "def label_figure(title, x, y):\n",
    "    plt.title(title)\n",
    "    plt.xlabel(x)\n",
    "    plt.ylabel(y);"
   ]
  },
  {
   "cell_type": "code",
   "execution_count": 75,
   "metadata": {
    "scrolled": false
   },
   "outputs": [
    {
     "data": {
      "image/png": "[encoded data removed]",
      "text/plain": [
       "<Figure size 640x480 with 1 Axes>"
      ]
     },
     "metadata": {},
     "output_type": "display_data"
    }
   ],
   "source": [
    "# Comparing patients that missed their appointment and those that did not.\n",
    "missed = appointments.missed == 1\n",
    "not_missed = appointments.missed == 0\n",
    "\n",
    "appointments[missed]['missed'].hist()\n",
    "appointments[not_missed]['missed'].hist()\n",
    "\n",
    "label_figure(\"Appointments Attendance\", \"Missed\", \"Count\");"
   ]
  },
  {
   "cell_type": "code",
   "execution_count": 76,
   "metadata": {
    "scrolled": false
   },
   "outputs": [
    {
     "name": "stdout",
     "output_type": "stream",
     "text": [
      "Missed - 18269 - (20.479793733535114)\n",
      "Not Missed - 70936 - (79.52020626646488)\n"
     ]
    },
    {
     "data": {
      "image/png": "[encoded data removed]",
      "text/plain": [
       "<Figure size 640x480 with 1 Axes>"
      ]
     },
     "metadata": {},
     "output_type": "display_data"
    }
   ],
   "source": [
    "# Comparing in terms of percentage\n",
    "\n",
    "total_appointments = appointments.shape[0]\n",
    "total_missed = len(appointments[missed])\n",
    "total_not_missed = total_appointments - total_missed\n",
    "\n",
    "percentage_missed = ((total_missed / total_appointments) * 100)\n",
    "percentage_not_missed = 100 - percentage_missed\n",
    "\n",
    "print(\"Missed - {} - ({})\".format(total_missed, percentage_missed))\n",
    "print(\"Not Missed - {} - ({})\".format(total_not_missed, percentage_not_missed))\n",
    "\n",
    "plt.bar([\"No\", \"Yes\"], [percentage_not_missed, percentage_missed])\n",
    "label_figure(\"Percentage Appointment Attendance\", \"Missed\", \"Percentage\");"
   ]
  },
  {
   "cell_type": "code",
   "execution_count": 77,
   "metadata": {},
   "outputs": [
    {
     "data": {
      "text/plain": [
       "(70936, 15)"
      ]
     },
     "execution_count": 77,
     "metadata": {},
     "output_type": "execute_result"
    }
   ],
   "source": [
    "# Appointments not missed. This would help us further analyse common factors as to\n",
    "# why these appointments were kept.\n",
    "\n",
    "appointments_not_missed = appointments[not_missed]\n",
    "appointments_not_missed.shape"
   ]
  },
  {
   "cell_type": "markdown",
   "metadata": {},
   "source": [
    "<a id=\"question2\"></a>\n",
    "### Question 2 - What are the common factors for fulfilled appointments?"
   ]
  },
  {
   "cell_type": "code",
   "execution_count": 78,
   "metadata": {},
   "outputs": [
    {
     "data": {
      "text/html": [
       "<div>\n",
       "<style scoped>\n",
       "    .dataframe tbody tr th:only-of-type {\n",
       "        vertical-align: middle;\n",
       "    }\n",
       "\n",
       "    .dataframe tbody tr th {\n",
       "        vertical-align: top;\n",
       "    }\n",
       "\n",
       "    .dataframe thead th {\n",
       "        text-align: right;\n",
       "    }\n",
       "</style>\n",
       "<table border=\"1\" class=\"dataframe\">\n",
       "  <thead>\n",
       "    <tr style=\"text-align: right;\">\n",
       "      <th></th>\n",
       "      <th>patient_id</th>\n",
       "      <th>age</th>\n",
       "      <th>scholarship</th>\n",
       "      <th>hypertension</th>\n",
       "      <th>diabetes</th>\n",
       "      <th>alcoholism</th>\n",
       "      <th>handicap</th>\n",
       "      <th>sms_received</th>\n",
       "      <th>missed</th>\n",
       "      <th>waiting_days</th>\n",
       "    </tr>\n",
       "  </thead>\n",
       "  <tbody>\n",
       "    <tr>\n",
       "      <th>count</th>\n",
       "      <td>7.093600e+04</td>\n",
       "      <td>70936.000000</td>\n",
       "      <td>70936.000000</td>\n",
       "      <td>70936.000000</td>\n",
       "      <td>70936.000000</td>\n",
       "      <td>70936.000000</td>\n",
       "      <td>70936.000000</td>\n",
       "      <td>70936.000000</td>\n",
       "      <td>70936.0</td>\n",
       "      <td>70936.000000</td>\n",
       "    </tr>\n",
       "    <tr>\n",
       "      <th>mean</th>\n",
       "      <td>1.463761e+14</td>\n",
       "      <td>44.318949</td>\n",
       "      <td>0.094480</td>\n",
       "      <td>0.245292</td>\n",
       "      <td>0.088643</td>\n",
       "      <td>0.032579</td>\n",
       "      <td>0.022090</td>\n",
       "      <td>0.311506</td>\n",
       "      <td>0.0</td>\n",
       "      <td>9.161836</td>\n",
       "    </tr>\n",
       "    <tr>\n",
       "      <th>std</th>\n",
       "      <td>2.548614e+14</td>\n",
       "      <td>19.655925</td>\n",
       "      <td>0.292497</td>\n",
       "      <td>0.430263</td>\n",
       "      <td>0.284230</td>\n",
       "      <td>0.177532</td>\n",
       "      <td>0.146978</td>\n",
       "      <td>0.463112</td>\n",
       "      <td>0.0</td>\n",
       "      <td>14.970954</td>\n",
       "    </tr>\n",
       "    <tr>\n",
       "      <th>min</th>\n",
       "      <td>3.921784e+04</td>\n",
       "      <td>10.000000</td>\n",
       "      <td>0.000000</td>\n",
       "      <td>0.000000</td>\n",
       "      <td>0.000000</td>\n",
       "      <td>0.000000</td>\n",
       "      <td>0.000000</td>\n",
       "      <td>0.000000</td>\n",
       "      <td>0.0</td>\n",
       "      <td>0.000000</td>\n",
       "    </tr>\n",
       "    <tr>\n",
       "      <th>25%</th>\n",
       "      <td>3.997446e+12</td>\n",
       "      <td>28.000000</td>\n",
       "      <td>0.000000</td>\n",
       "      <td>0.000000</td>\n",
       "      <td>0.000000</td>\n",
       "      <td>0.000000</td>\n",
       "      <td>0.000000</td>\n",
       "      <td>0.000000</td>\n",
       "      <td>0.0</td>\n",
       "      <td>0.000000</td>\n",
       "    </tr>\n",
       "    <tr>\n",
       "      <th>50%</th>\n",
       "      <td>3.128532e+13</td>\n",
       "      <td>45.000000</td>\n",
       "      <td>0.000000</td>\n",
       "      <td>0.000000</td>\n",
       "      <td>0.000000</td>\n",
       "      <td>0.000000</td>\n",
       "      <td>0.000000</td>\n",
       "      <td>0.000000</td>\n",
       "      <td>0.0</td>\n",
       "      <td>3.000000</td>\n",
       "    </tr>\n",
       "    <tr>\n",
       "      <th>75%</th>\n",
       "      <td>9.397700e+13</td>\n",
       "      <td>59.000000</td>\n",
       "      <td>0.000000</td>\n",
       "      <td>0.000000</td>\n",
       "      <td>0.000000</td>\n",
       "      <td>0.000000</td>\n",
       "      <td>0.000000</td>\n",
       "      <td>1.000000</td>\n",
       "      <td>0.0</td>\n",
       "      <td>13.000000</td>\n",
       "    </tr>\n",
       "    <tr>\n",
       "      <th>max</th>\n",
       "      <td>9.999686e+14</td>\n",
       "      <td>115.000000</td>\n",
       "      <td>1.000000</td>\n",
       "      <td>1.000000</td>\n",
       "      <td>1.000000</td>\n",
       "      <td>1.000000</td>\n",
       "      <td>1.000000</td>\n",
       "      <td>1.000000</td>\n",
       "      <td>0.0</td>\n",
       "      <td>179.000000</td>\n",
       "    </tr>\n",
       "  </tbody>\n",
       "</table>\n",
       "</div>"
      ],
      "text/plain": [
       "         patient_id           age   scholarship  hypertension      diabetes  \\\n",
       "count  7.093600e+04  70936.000000  70936.000000  70936.000000  70936.000000   \n",
       "mean   1.463761e+14     44.318949      0.094480      0.245292      0.088643   \n",
       "std    2.548614e+14     19.655925      0.292497      0.430263      0.284230   \n",
       "min    3.921784e+04     10.000000      0.000000      0.000000      0.000000   \n",
       "25%    3.997446e+12     28.000000      0.000000      0.000000      0.000000   \n",
       "50%    3.128532e+13     45.000000      0.000000      0.000000      0.000000   \n",
       "75%    9.397700e+13     59.000000      0.000000      0.000000      0.000000   \n",
       "max    9.999686e+14    115.000000      1.000000      1.000000      1.000000   \n",
       "\n",
       "         alcoholism      handicap  sms_received   missed  waiting_days  \n",
       "count  70936.000000  70936.000000  70936.000000  70936.0  70936.000000  \n",
       "mean       0.032579      0.022090      0.311506      0.0      9.161836  \n",
       "std        0.177532      0.146978      0.463112      0.0     14.970954  \n",
       "min        0.000000      0.000000      0.000000      0.0      0.000000  \n",
       "25%        0.000000      0.000000      0.000000      0.0      0.000000  \n",
       "50%        0.000000      0.000000      0.000000      0.0      3.000000  \n",
       "75%        0.000000      0.000000      1.000000      0.0     13.000000  \n",
       "max        1.000000      1.000000      1.000000      0.0    179.000000  "
      ]
     },
     "execution_count": 78,
     "metadata": {},
     "output_type": "execute_result"
    }
   ],
   "source": [
    "# Statistical data for appointments not missed\n",
    "\n",
    "appointments_not_missed.describe()"
   ]
  },
  {
   "cell_type": "code",
   "execution_count": 79,
   "metadata": {},
   "outputs": [],
   "source": [
    "# Function to help plot common comparision figure\n",
    "def plot_figure(data, x, hue):\n",
    "    plt.figure(figsize=(10,5))\n",
    "    sns.countplot(data=data,x=x,hue=hue)"
   ]
  },
  {
   "cell_type": "code",
   "execution_count": 80,
   "metadata": {},
   "outputs": [],
   "source": [
    "# Function to help calculate percentage\n",
    "def percentage(proportion, total):\n",
    "    return (proportion / total) * 100"
   ]
  },
  {
   "cell_type": "markdown",
   "metadata": {},
   "source": [
    "#### Age\n",
    "\n",
    "We want to review the impace of a patient's age on fulfilled appointments.\n",
    "\n",
    "Note - We are using the age 60 because of our observation in the statistical data."
   ]
  },
  {
   "cell_type": "code",
   "execution_count": 81,
   "metadata": {},
   "outputs": [
    {
     "name": "stdout",
     "output_type": "stream",
     "text": [
      "> 60 years - 22.854404%\n",
      "<= 60 years - 77.145596%\n"
     ]
    }
   ],
   "source": [
    "# Grouping the age data based on observation in our statistical data\n",
    "\n",
    "total = appointments_not_missed.shape[0]\n",
    "more_than_60 = appointments_not_missed.query('age > 60').shape[0]\n",
    "\n",
    "print('> 60 years - {0:2f}%'.format(percentage(more_than_60, total)))\n",
    "print('<= 60 years - {0:2f}%'.format(percentage((total - more_than_60), total)))"
   ]
  },
  {
   "cell_type": "markdown",
   "metadata": {},
   "source": [
    "#### Gender\n",
    "\n",
    "We want to review the impact of a patient's gender on fulfilled appointments."
   ]
  },
  {
   "cell_type": "code",
   "execution_count": 82,
   "metadata": {},
   "outputs": [
    {
     "name": "stdout",
     "output_type": "stream",
     "text": [
      "Female - 79.456046%\n",
      "Male - 79.662177%\n"
     ]
    }
   ],
   "source": [
    "total_female, total_male = appointments['gender'].value_counts()\n",
    "female, male = appointments_not_missed['gender'].value_counts()\n",
    "\n",
    "print('Female - {0:2f}%'.format(percentage(female, total_female)))\n",
    "print('Male - {0:2f}%'.format(percentage(male, total_male)))"
   ]
  },
  {
   "cell_type": "markdown",
   "metadata": {},
   "source": [
    "#### Scholarship\n",
    "\n",
    "We want to review the impact of a patient having a scholarship (support funds) on fulfilled appointments."
   ]
  },
  {
   "cell_type": "code",
   "execution_count": 83,
   "metadata": {
    "scrolled": true
   },
   "outputs": [
    {
     "name": "stdout",
     "output_type": "stream",
     "text": [
      "Scholarship - 9.447953%\n",
      "No Scholarship - 90.552047%\n"
     ]
    }
   ],
   "source": [
    "no, yes = appointments_not_missed['scholarship'].value_counts()\n",
    "\n",
    "print('Scholarship - {0:2f}%'.format(percentage(yes, total)))\n",
    "print('No Scholarship - {0:2f}%'.format(percentage(no, total)))"
   ]
  },
  {
   "cell_type": "markdown",
   "metadata": {},
   "source": [
    "#### Hypertension, Diabetes, Alcoholism, Handicap\n",
    "\n",
    "We want to review the impace of a patient being hypertensive, diabetic, alcoholic or an handicap\n",
    "on fulfilled appointments."
   ]
  },
  {
   "cell_type": "code",
   "execution_count": 84,
   "metadata": {},
   "outputs": [
    {
     "name": "stdout",
     "output_type": "stream",
     "text": [
      "Hypertensive - 24.529153%\n",
      "Not Hypertensive - 75.470847%\n"
     ]
    }
   ],
   "source": [
    "no, yes = appointments_not_missed['hypertension'].value_counts()\n",
    "\n",
    "print('Hypertensive - {0:2f}%'.format(percentage(yes, total)))\n",
    "print('Not Hypertensive - {0:2f}%'.format(percentage(no, total)))"
   ]
  },
  {
   "cell_type": "code",
   "execution_count": 85,
   "metadata": {},
   "outputs": [
    {
     "name": "stdout",
     "output_type": "stream",
     "text": [
      "Diabetic - 8.864328%\n",
      "Not Diabetic - 91.135672%\n"
     ]
    }
   ],
   "source": [
    "no, yes = appointments_not_missed['diabetes'].value_counts()\n",
    "\n",
    "print('Diabetic - {0:2f}%'.format(percentage(yes, total)))\n",
    "print('Not Diabetic - {0:2f}%'.format(percentage(no, total)))"
   ]
  },
  {
   "cell_type": "code",
   "execution_count": 86,
   "metadata": {},
   "outputs": [
    {
     "name": "stdout",
     "output_type": "stream",
     "text": [
      "Alcoholic - 3.257866%\n",
      "Not Alcoholic - 96.742134%\n"
     ]
    }
   ],
   "source": [
    "no, yes = appointments_not_missed['alcoholism'].value_counts()\n",
    "\n",
    "print('Alcoholic - {0:2f}%'.format(percentage(yes, total)))\n",
    "print('Not Alcoholic - {0:2f}%'.format(percentage(no, total)))"
   ]
  },
  {
   "cell_type": "code",
   "execution_count": 87,
   "metadata": {},
   "outputs": [
    {
     "name": "stdout",
     "output_type": "stream",
     "text": [
      "Handicap - 2.209033%\n",
      "Not Handicap - 97.790967%\n"
     ]
    }
   ],
   "source": [
    "no, yes = appointments_not_missed['handicap'].value_counts()\n",
    "\n",
    "print('Handicap - {0:2f}%'.format(percentage(yes, total)))\n",
    "print('Not Handicap - {0:2f}%'.format(percentage(no, total)))"
   ]
  },
  {
   "cell_type": "markdown",
   "metadata": {},
   "source": [
    "#### SMS Received\n",
    "\n",
    "We want to review if a patient getting an SMS has an impact on fulfilled appointments."
   ]
  },
  {
   "cell_type": "code",
   "execution_count": 88,
   "metadata": {},
   "outputs": [
    {
     "name": "stdout",
     "output_type": "stream",
     "text": [
      "SMS - 31.150615%\n",
      "No SMS - 68.849385%\n"
     ]
    }
   ],
   "source": [
    "no, yes = appointments_not_missed['sms_received'].value_counts()\n",
    "\n",
    "print('SMS - {0:2f}%'.format(percentage(yes, total)))\n",
    "print('No SMS - {0:2f}%'.format(percentage(no, total)))"
   ]
  },
  {
   "cell_type": "markdown",
   "metadata": {},
   "source": [
    "#### Waiting Days\n",
    "\n",
    "We want to review if a patient waiting days before appointment impacts it fulfillment.\n",
    "\n",
    "Note - We are using the number 12 because of our observation in the statistical data."
   ]
  },
  {
   "cell_type": "code",
   "execution_count": 89,
   "metadata": {},
   "outputs": [
    {
     "name": "stdout",
     "output_type": "stream",
     "text": [
      "> 12 days - 25.441243%\n",
      "<= 12 days - 74.558757%\n"
     ]
    }
   ],
   "source": [
    "more_than_12 = appointments_not_missed.query('waiting_days > 12').shape[0]\n",
    "\n",
    "print('> 12 days - {0:2f}%'.format(percentage(more_than_12, total)))\n",
    "print('<= 12 days - {0:2f}%'.format(percentage((total - more_than_12), total)))"
   ]
  },
  {
   "cell_type": "markdown",
   "metadata": {},
   "source": [
    "#### Appointment Day (day of the week)\n",
    "\n",
    "We want to review if the day of the week the appointment falls impacts whether a patient shows up"
   ]
  },
  {
   "cell_type": "code",
   "execution_count": 90,
   "metadata": {},
   "outputs": [
    {
     "data": {
      "text/plain": [
       "Wednesday    16817\n",
       "Tuesday      16658\n",
       "Monday       14198\n",
       "Friday       11936\n",
       "Thursday     11297\n",
       "Saturday        30\n",
       "Name: appointment_dow, dtype: int64"
      ]
     },
     "execution_count": 90,
     "metadata": {},
     "output_type": "execute_result"
    }
   ],
   "source": [
    "appointments_not_missed['appointment_dow'].value_counts()"
   ]
  },
  {
   "cell_type": "markdown",
   "metadata": {},
   "source": [
    "Based on the analysis above, we would be considering Age, Waiting Days and Day of the Week in analysing missed appointmets."
   ]
  },
  {
   "cell_type": "markdown",
   "metadata": {},
   "source": [
    "<a id=\"question3\"></a>\n",
    "### Question 3 - Can we use these factors to review patients who miss their appointments?"
   ]
  },
  {
   "cell_type": "markdown",
   "metadata": {},
   "source": [
    "Yes, we can.\n",
    "\n",
    "<ul>\n",
    "    <li>Age</li>\n",
    "    <li>Waiting Days</li>\n",
    "    <li>Day of the Week</li>\n",
    "</ul>"
   ]
  },
  {
   "cell_type": "markdown",
   "metadata": {},
   "source": [
    "<a id=\"question4\"></a>\n",
    "### Question 4 - How can we predict whether a patient would miss their appointment?"
   ]
  },
  {
   "cell_type": "code",
   "execution_count": 91,
   "metadata": {},
   "outputs": [
    {
     "data": {
      "text/plain": [
       "(18269, 15)"
      ]
     },
     "execution_count": 91,
     "metadata": {},
     "output_type": "execute_result"
    }
   ],
   "source": [
    "# Appointments missed. This would help us further analyse using the factors we've established;\n",
    "# [Age, Waiting Days, Day of the Week]\n",
    "\n",
    "appointments_missed = appointments[missed].copy()\n",
    "appointments_missed.shape"
   ]
  },
  {
   "cell_type": "code",
   "execution_count": 92,
   "metadata": {
    "scrolled": true
   },
   "outputs": [
    {
     "data": {
      "text/html": [
       "<div>\n",
       "<style scoped>\n",
       "    .dataframe tbody tr th:only-of-type {\n",
       "        vertical-align: middle;\n",
       "    }\n",
       "\n",
       "    .dataframe tbody tr th {\n",
       "        vertical-align: top;\n",
       "    }\n",
       "\n",
       "    .dataframe thead th {\n",
       "        text-align: right;\n",
       "    }\n",
       "</style>\n",
       "<table border=\"1\" class=\"dataframe\">\n",
       "  <thead>\n",
       "    <tr style=\"text-align: right;\">\n",
       "      <th></th>\n",
       "      <th>patient_id</th>\n",
       "      <th>age</th>\n",
       "      <th>scholarship</th>\n",
       "      <th>hypertension</th>\n",
       "      <th>diabetes</th>\n",
       "      <th>alcoholism</th>\n",
       "      <th>handicap</th>\n",
       "      <th>sms_received</th>\n",
       "      <th>missed</th>\n",
       "      <th>waiting_days</th>\n",
       "    </tr>\n",
       "  </thead>\n",
       "  <tbody>\n",
       "    <tr>\n",
       "      <th>count</th>\n",
       "      <td>1.826900e+04</td>\n",
       "      <td>18269.000000</td>\n",
       "      <td>18269.000000</td>\n",
       "      <td>18269.000000</td>\n",
       "      <td>18269.000000</td>\n",
       "      <td>18269.000000</td>\n",
       "      <td>18269.000000</td>\n",
       "      <td>18269.000000</td>\n",
       "      <td>18269.0</td>\n",
       "      <td>18269.000000</td>\n",
       "    </tr>\n",
       "    <tr>\n",
       "      <th>mean</th>\n",
       "      <td>1.461790e+14</td>\n",
       "      <td>39.947178</td>\n",
       "      <td>0.116974</td>\n",
       "      <td>0.200339</td>\n",
       "      <td>0.076414</td>\n",
       "      <td>0.035744</td>\n",
       "      <td>0.017461</td>\n",
       "      <td>0.455964</td>\n",
       "      <td>1.0</td>\n",
       "      <td>15.691171</td>\n",
       "    </tr>\n",
       "    <tr>\n",
       "      <th>std</th>\n",
       "      <td>2.543314e+14</td>\n",
       "      <td>19.132145</td>\n",
       "      <td>0.321398</td>\n",
       "      <td>0.400265</td>\n",
       "      <td>0.265666</td>\n",
       "      <td>0.185655</td>\n",
       "      <td>0.130986</td>\n",
       "      <td>0.498071</td>\n",
       "      <td>0.0</td>\n",
       "      <td>16.783957</td>\n",
       "    </tr>\n",
       "    <tr>\n",
       "      <th>min</th>\n",
       "      <td>5.628261e+06</td>\n",
       "      <td>10.000000</td>\n",
       "      <td>0.000000</td>\n",
       "      <td>0.000000</td>\n",
       "      <td>0.000000</td>\n",
       "      <td>0.000000</td>\n",
       "      <td>0.000000</td>\n",
       "      <td>0.000000</td>\n",
       "      <td>1.0</td>\n",
       "      <td>0.000000</td>\n",
       "    </tr>\n",
       "    <tr>\n",
       "      <th>25%</th>\n",
       "      <td>4.252673e+12</td>\n",
       "      <td>24.000000</td>\n",
       "      <td>0.000000</td>\n",
       "      <td>0.000000</td>\n",
       "      <td>0.000000</td>\n",
       "      <td>0.000000</td>\n",
       "      <td>0.000000</td>\n",
       "      <td>0.000000</td>\n",
       "      <td>1.0</td>\n",
       "      <td>4.000000</td>\n",
       "    </tr>\n",
       "    <tr>\n",
       "      <th>50%</th>\n",
       "      <td>3.151784e+13</td>\n",
       "      <td>38.000000</td>\n",
       "      <td>0.000000</td>\n",
       "      <td>0.000000</td>\n",
       "      <td>0.000000</td>\n",
       "      <td>0.000000</td>\n",
       "      <td>0.000000</td>\n",
       "      <td>0.000000</td>\n",
       "      <td>1.0</td>\n",
       "      <td>10.000000</td>\n",
       "    </tr>\n",
       "    <tr>\n",
       "      <th>75%</th>\n",
       "      <td>9.452498e+13</td>\n",
       "      <td>54.000000</td>\n",
       "      <td>0.000000</td>\n",
       "      <td>0.000000</td>\n",
       "      <td>0.000000</td>\n",
       "      <td>0.000000</td>\n",
       "      <td>0.000000</td>\n",
       "      <td>1.000000</td>\n",
       "      <td>1.0</td>\n",
       "      <td>23.000000</td>\n",
       "    </tr>\n",
       "    <tr>\n",
       "      <th>max</th>\n",
       "      <td>9.996585e+14</td>\n",
       "      <td>115.000000</td>\n",
       "      <td>1.000000</td>\n",
       "      <td>1.000000</td>\n",
       "      <td>1.000000</td>\n",
       "      <td>1.000000</td>\n",
       "      <td>1.000000</td>\n",
       "      <td>1.000000</td>\n",
       "      <td>1.0</td>\n",
       "      <td>179.000000</td>\n",
       "    </tr>\n",
       "  </tbody>\n",
       "</table>\n",
       "</div>"
      ],
      "text/plain": [
       "         patient_id           age   scholarship  hypertension      diabetes  \\\n",
       "count  1.826900e+04  18269.000000  18269.000000  18269.000000  18269.000000   \n",
       "mean   1.461790e+14     39.947178      0.116974      0.200339      0.076414   \n",
       "std    2.543314e+14     19.132145      0.321398      0.400265      0.265666   \n",
       "min    5.628261e+06     10.000000      0.000000      0.000000      0.000000   \n",
       "25%    4.252673e+12     24.000000      0.000000      0.000000      0.000000   \n",
       "50%    3.151784e+13     38.000000      0.000000      0.000000      0.000000   \n",
       "75%    9.452498e+13     54.000000      0.000000      0.000000      0.000000   \n",
       "max    9.996585e+14    115.000000      1.000000      1.000000      1.000000   \n",
       "\n",
       "         alcoholism      handicap  sms_received   missed  waiting_days  \n",
       "count  18269.000000  18269.000000  18269.000000  18269.0  18269.000000  \n",
       "mean       0.035744      0.017461      0.455964      1.0     15.691171  \n",
       "std        0.185655      0.130986      0.498071      0.0     16.783957  \n",
       "min        0.000000      0.000000      0.000000      1.0      0.000000  \n",
       "25%        0.000000      0.000000      0.000000      1.0      4.000000  \n",
       "50%        0.000000      0.000000      0.000000      1.0     10.000000  \n",
       "75%        0.000000      0.000000      1.000000      1.0     23.000000  \n",
       "max        1.000000      1.000000      1.000000      1.0    179.000000  "
      ]
     },
     "execution_count": 92,
     "metadata": {},
     "output_type": "execute_result"
    }
   ],
   "source": [
    "appointments_missed.describe()"
   ]
  },
  {
   "cell_type": "markdown",
   "metadata": {},
   "source": [
    "#### [Age]"
   ]
  },
  {
   "cell_type": "code",
   "execution_count": 93,
   "metadata": {},
   "outputs": [
    {
     "data": {
      "image/png": "[encoded data removed]",
      "text/plain": [
       "<Figure size 640x480 with 1 Axes>"
      ]
     },
     "metadata": {},
     "output_type": "display_data"
    }
   ],
   "source": [
    "# Reviewing to see if specific appointment days are preferred by\n",
    "# certain age group.\n",
    "\n",
    "appointments_missed.plot.scatter(x='age', y='appointment_dow')\n",
    "label_figure(\"Age Preference for Appointement Date\", \"Age\", \"Day of week\");"
   ]
  },
  {
   "cell_type": "code",
   "execution_count": 96,
   "metadata": {},
   "outputs": [
    {
     "data": {
      "image/png": "[encoded data removed]",
      "text/plain": [
       "<Figure size 640x480 with 1 Axes>"
      ]
     },
     "metadata": {},
     "output_type": "display_data"
    }
   ],
   "source": [
    "# Reviewing to see if older people have less tolerance for longer waiting days\n",
    "\n",
    "appointments_missed.plot.scatter(x='age', y='waiting_days')\n",
    "label_figure(\"Appointment Delay Tolerance with Age\", \"Age\", \"Waiting days\");"
   ]
  },
  {
   "cell_type": "markdown",
   "metadata": {},
   "source": [
    "#### [Waiting Days]"
   ]
  },
  {
   "cell_type": "code",
   "execution_count": 97,
   "metadata": {},
   "outputs": [],
   "source": [
    "# A function to help group entries [appointments_missed] to two categories\n",
    "# of appointments with patients who waited 12 days (and below) and more than 12days\n",
    "\n",
    "def days_group(row):\n",
    "    if row['waiting_days'] > 12:\n",
    "        return 'Above 12'\n",
    "    else:\n",
    "        return '12 Below'\n",
    "    \n",
    "appointments_missed['waiting_days_group'] = appointments_missed.apply(lambda row: days_group(row), axis=1)"
   ]
  },
  {
   "cell_type": "code",
   "execution_count": 98,
   "metadata": {},
   "outputs": [
    {
     "data": {
      "text/plain": [
       "12 Below    9833\n",
       "Above 12    8436\n",
       "Name: waiting_days_group, dtype: int64"
      ]
     },
     "execution_count": 98,
     "metadata": {},
     "output_type": "execute_result"
    }
   ],
   "source": [
    "appointments_missed['waiting_days_group'].value_counts()"
   ]
  },
  {
   "cell_type": "code",
   "execution_count": 99,
   "metadata": {},
   "outputs": [
    {
     "data": {
      "image/png": "[encoded data removed]",
      "text/plain": [
       "<Figure size 640x480 with 1 Axes>"
      ]
     },
     "metadata": {},
     "output_type": "display_data"
    }
   ],
   "source": [
    "below_12, above_12 = appointments_missed['waiting_days_group'].value_counts()\n",
    "\n",
    "plt.bar([\"12 and Below\", \"Above 12\"], [below_12, above_12])\n",
    "label_figure(\"Proportion of Patients Waiting Days\", \"Waiting Days\", \"Appointments\");"
   ]
  },
  {
   "cell_type": "markdown",
   "metadata": {},
   "source": [
    "#### [Day of the Week]"
   ]
  },
  {
   "cell_type": "code",
   "execution_count": 100,
   "metadata": {},
   "outputs": [
    {
     "data": {
      "text/plain": [
       "Tuesday      4278\n",
       "Wednesday    4174\n",
       "Monday       3794\n",
       "Friday       3238\n",
       "Thursday     2776\n",
       "Saturday        9\n",
       "Name: appointment_dow, dtype: int64"
      ]
     },
     "execution_count": 100,
     "metadata": {},
     "output_type": "execute_result"
    }
   ],
   "source": [
    "appointments_missed['appointment_dow'].value_counts()"
   ]
  },
  {
   "cell_type": "code",
   "execution_count": 101,
   "metadata": {},
   "outputs": [
    {
     "data": {
      "image/png": "[encoded data removed]",
      "text/plain": [
       "<Figure size 640x480 with 1 Axes>"
      ]
     },
     "metadata": {},
     "output_type": "display_data"
    }
   ],
   "source": [
    "appointments_missed['appointment_dow'].value_counts().plot.area()\n",
    "label_figure(\"Appointments against Patients' Waiting Days\", \"Day of week\", \"Appointments\");"
   ]
  },
  {
   "cell_type": "markdown",
   "metadata": {},
   "source": [
    "<a id='conclusions'></a>\n",
    "## Conclusions"
   ]
  },
  {
   "cell_type": "markdown",
   "metadata": {},
   "source": [
    "Based on the data exploration we've done, we can deduce that\n",
    "\n",
    "1. Having scholarship or not has no effect over if a patient would miss their appointment.\n",
    "2. Receiving an SMS is not a push for a patient not to miss their appointment.\n",
    "3. There's a better chance of a patient showing up for their appointment if they don't have to wait long.\n",
    "4. Peek appointment days is Tuesday, Wednesday for both missed and attended appointments, with Saturday being the lowest in both cases. This brings up the assumption that there are days most patients would prefer to have their appointment and it is usually crowded."
   ]
  },
  {
   "cell_type": "markdown",
   "metadata": {},
   "source": [
    "<a id='limitations'></a>\n",
    "### Limitations\n",
    "\n",
    "1. The range of values for different variable in the data is short (it's either True or False).\n",
    "2. We don't know what role the neighbourhood of the hosptial plays in whether a patient would show up or not."
   ]
  },
  {
   "cell_type": "code",
   "execution_count": null,
   "metadata": {
    "collapsed": true
   },
   "outputs": [],
   "source": [
    "from subprocess import call\n",
    "call(['python', '-m', 'nbconvert', 'Investigate_a_Dataset.ipynb'])"
   ]
  }
 ],
 "metadata": {
  "kernelspec": {
   "display_name": "Python 3 (ipykernel)",
   "language": "python",
   "name": "python3"
  },
  "language_info": {
   "codemirror_mode": {
    "name": "ipython",
    "version": 3
   },
   "file_extension": ".py",
   "mimetype": "text/x-python",
   "name": "python",
   "nbconvert_exporter": "python",
   "pygments_lexer": "ipython3",
   "version": "3.9.15"
  }
 },
 "nbformat": 4,
 "nbformat_minor": 2
}
